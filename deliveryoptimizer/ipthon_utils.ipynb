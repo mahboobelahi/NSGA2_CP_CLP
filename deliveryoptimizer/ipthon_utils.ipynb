{
 "cells": [
  {
   "cell_type": "code",
   "execution_count": 1,
   "metadata": {},
   "outputs": [],
   "source": [
    "#setting for Django project\n",
    "import os\n",
    "import django\n",
    "# Set the Django settings module\n",
    "os.environ.setdefault('DJANGO_SETTINGS_MODULE', 'deliveryoptimizer.settings')\n",
    "\n",
    "# Initialize Django\n",
    "django.setup()"
   ]
  },
  {
   "cell_type": "markdown",
   "metadata": {},
   "source": [
    "### Transform container as per Container model"
   ]
  },
  {
   "cell_type": "code",
   "execution_count": 2,
   "metadata": {},
   "outputs": [
    {
     "name": "stdout",
     "output_type": "stream",
     "text": [
      "Transformed data saved to cargo_storageOpt\\CLP_GA\\CLP_BR_Data\\transformed_containers.json\n"
     ]
    }
   ],
   "source": [
    "import json\n",
    "from pathlib import Path\n",
    "\n",
    "# Define the base directory and file paths\n",
    "\n",
    "base_dir_data = Path(\"./cargo_storageOpt/CLP_GA/CLP_BR_Data\")\n",
    "input_file_path = base_dir_data / \"containers.json\"\n",
    "output_file_path = base_dir_data / \"transformed_containers.json\"\n",
    "\n",
    "# Ensure the input file exists\n",
    "if not input_file_path.exists():\n",
    "    raise FileNotFoundError(f\"Input file not found: {input_file_path}\")\n",
    "\n",
    "# Ensure the output directory exists\n",
    "output_file_path.parent.mkdir(parents=True, exist_ok=True)\n",
    "def transform_containers(file_path):\n",
    "    OPENING_SHORTCUTS = {\n",
    "        \"Open to Top\": \"T\",\n",
    "        \"Open to Back\": \"B\",\n",
    "        \"Open to Side\": \"S\"\n",
    "    }\n",
    "    \n",
    "    with open(file_path, \"r\") as file:\n",
    "        data = json.load(file)\n",
    "    \n",
    "    transformed = []\n",
    "    containers = data.get(\"containers\", [])\n",
    "    for idx, container in enumerate(containers):\n",
    "        transformed.append({\n",
    "            \"cont_ID\": container[\"name\"],\n",
    "            \"external_length\": container[\"external_dimention\"][\"m\"][0],\n",
    "            \"external_width\": container[\"external_dimention\"][\"m\"][1],\n",
    "            \"external_height\": container[\"external_dimention\"][\"m\"][2],\n",
    "            \"internal_length\": container[\"internal_dimention\"][\"m\"][0],\n",
    "            \"internal_width\": container[\"internal_dimention\"][\"m\"][1],\n",
    "            \"internal_height\": container[\"internal_dimention\"][\"m\"][2],\n",
    "            \"opening_type\": OPENING_SHORTCUTS[container[\"container_opening\"]],\n",
    "            \"payload\": container[\"payload\"],\n",
    "            \"tare_weight\": container[\"tare_weight\"],\n",
    "            \"sort_id\": idx + 1\n",
    "        })\n",
    "    return transformed\n",
    "\n",
    "# Transform the data and save to a new file\n",
    "transformed_data = transform_containers(input_file_path)\n",
    "\n",
    "with open(output_file_path, \"w\") as file:\n",
    "    json.dump(transformed_data, file, indent=4)\n",
    "\n",
    "print(f\"Transformed data saved to {output_file_path}\")\n"
   ]
  },
  {
   "cell_type": "markdown",
   "metadata": {},
   "source": [
    "### Save transformed data to containers DB\n",
    "Please check DB update through POST req from postman"
   ]
  },
  {
   "cell_type": "code",
   "execution_count": 54,
   "metadata": {},
   "outputs": [],
   "source": [
    "from cargo_storageOpt.models.container import Container\n",
    "\n",
    "def add_containers(data):\n",
    "    containers = []\n",
    "    errors = []\n",
    "    \n",
    "    required_fields = [\n",
    "        'opening_type', 'cont_ID', 'sort_id', 'tare_weight', 'payload',\n",
    "        'external_length', 'external_width', 'external_height',\n",
    "        'internal_length', 'internal_width', 'internal_height'\n",
    "    ]\n",
    "\n",
    "    for idx, container_data in enumerate(data):\n",
    "        missing_fields = [field for field in required_fields if field not in container_data]\n",
    "        if missing_fields:\n",
    "            errors.append({\n",
    "                'index': idx,\n",
    "                'error': f'Missing fields: {\", \".join(missing_fields)}'\n",
    "            })\n",
    "            continue\n",
    "        \n",
    "        try:\n",
    "            # Create container object\n",
    "            container = Container(\n",
    "                opening_type=container_data['opening_type'],\n",
    "                cont_ID=container_data['cont_ID'],\n",
    "                sort_id=container_data['sort_id'],\n",
    "                tare_weight=container_data['tare_weight'],\n",
    "                payload=container_data['payload'],\n",
    "                external_length=container_data['external_length'],\n",
    "                external_width=container_data['external_width'],\n",
    "                external_height=container_data['external_height'],\n",
    "                internal_length=container_data['internal_length'],\n",
    "                internal_width=container_data['internal_width'],\n",
    "                internal_height=container_data['internal_height']\n",
    "            )\n",
    "            \n",
    "            # Save the container to the database\n",
    "            container.save()\n",
    "        \n",
    "        except Exception as e:\n",
    "            errors.append({'index': idx, 'error': str(e)})\n",
    "\n",
    "    return errors  # Return any errors if present\n"
   ]
  },
  {
   "cell_type": "code",
   "execution_count": 55,
   "metadata": {},
   "outputs": [],
   "source": [
    "import threading\n",
    "\n",
    "# Ensure the function 'add_containers' accepts a parameter, like 'data'\n",
    "t = threading.Thread(target=add_containers, args=(transformed_data,))\n",
    "t.start()"
   ]
  },
  {
   "cell_type": "markdown",
   "metadata": {},
   "source": [
    "### Update orders"
   ]
  },
  {
   "cell_type": "code",
   "execution_count": 66,
   "metadata": {},
   "outputs": [
    {
     "name": "stdout",
     "output_type": "stream",
     "text": [
      "Updated 3 orders with order_fetched set to False and supportRatio set to 0.85.\n",
      "ID: 4, order_fetched: False, supportRatio: 0.85\n",
      "ID: 5, order_fetched: False, supportRatio: 0.85\n",
      "ID: 6, order_fetched: False, supportRatio: 0.85\n"
     ]
    }
   ],
   "source": [
    "from cargo_storageOpt.models.UpdateOrders import reset_order_fetched_for_range\n",
    "\n",
    "t = threading.Thread(target=reset_order_fetched_for_range, args=(4,6))\n",
    "t.start()"
   ]
  },
  {
   "cell_type": "code",
   "execution_count": null,
   "metadata": {},
   "outputs": [],
   "source": []
  }
 ],
 "metadata": {
  "kernelspec": {
   "display_name": "env",
   "language": "python",
   "name": "python3"
  },
  "language_info": {
   "codemirror_mode": {
    "name": "ipython",
    "version": 3
   },
   "file_extension": ".py",
   "mimetype": "text/x-python",
   "name": "python",
   "nbconvert_exporter": "python",
   "pygments_lexer": "ipython3",
   "version": "3.10.9"
  }
 },
 "nbformat": 4,
 "nbformat_minor": 2
}
